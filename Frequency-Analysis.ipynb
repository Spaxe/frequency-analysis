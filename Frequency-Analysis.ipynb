{
 "cells": [
  {
   "cell_type": "code",
   "execution_count": 10,
   "metadata": {
    "collapsed": true
   },
   "outputs": [],
   "source": [
    "import string"
   ]
  },
  {
   "cell_type": "code",
   "execution_count": 18,
   "metadata": {},
   "outputs": [
    {
     "name": "stdout",
     "output_type": "stream",
     "text": [
      "{'A': 2314, 'B': 430, 'C': 1106, 'D': 865, 'E': 3547, 'F': 677, 'G': 470, 'H': 1890, 'I': 2333, 'J': 50, 'K': 158, 'L': 949, 'M': 709, 'N': 1652, 'O': 1966, 'P': 906, 'Q': 28, 'R': 1911, 'S': 1603, 'T': 2529, 'U': 637, 'V': 433, 'W': 445, 'X': 148, 'Y': 340, 'Z': 14}\n"
     ]
    }
   ],
   "source": [
    "with open('les-miserables.txt', encoding='utf-8') as book:\n",
    "    \n",
    "    # Ignore Project Gutenberg metadata\n",
    "    for i, line in enumerate(book):\n",
    "        if line.startswith('*** START OF THIS PROJECT GUTENBERG'):\n",
    "            break\n",
    "            \n",
    "    # Set up letter counter\n",
    "    letter_frequencies = {}\n",
    "    for letter in string.ascii_uppercase:\n",
    "        letter_frequencies[letter] = 0\n",
    "        \n",
    "    # Analyse the book\n",
    "    for i, line in enumerate(book):\n",
    "        for char in line:\n",
    "            if char in string.ascii_letters:\n",
    "                uppercase = char.upper()\n",
    "                letter_frequencies[uppercase] += 1\n",
    "        \n",
    "        if i > 1000:\n",
    "            break\n",
    "        if line.startswith('*** END OF THIS PROJECT GUTENBERG'):\n",
    "            break\n",
    "           \n",
    "    # Present the analysis\n",
    "    print(letter_frequencies)"
   ]
  },
  {
   "cell_type": "code",
   "execution_count": 7,
   "metadata": {
    "collapsed": true
   },
   "outputs": [],
   "source": [
    "letters = { 'a': 3, 'b': 2 }"
   ]
  },
  {
   "cell_type": "code",
   "execution_count": 9,
   "metadata": {},
   "outputs": [
    {
     "data": {
      "text/plain": [
       "2"
      ]
     },
     "execution_count": 9,
     "metadata": {},
     "output_type": "execute_result"
    }
   ],
   "source": [
    "letters['b']"
   ]
  },
  {
   "cell_type": "code",
   "execution_count": 16,
   "metadata": {},
   "outputs": [],
   "source": [
    "x = 'abc'\n",
    "if 'd' in x:\n",
    "    print('Found it!')"
   ]
  },
  {
   "cell_type": "code",
   "execution_count": null,
   "metadata": {
    "collapsed": true
   },
   "outputs": [],
   "source": []
  }
 ],
 "metadata": {
  "kernelspec": {
   "display_name": "Python 3",
   "language": "python",
   "name": "python3"
  },
  "language_info": {
   "codemirror_mode": {
    "name": "ipython",
    "version": 3
   },
   "file_extension": ".py",
   "mimetype": "text/x-python",
   "name": "python",
   "nbconvert_exporter": "python",
   "pygments_lexer": "ipython3",
   "version": "3.6.2"
  }
 },
 "nbformat": 4,
 "nbformat_minor": 2
}
